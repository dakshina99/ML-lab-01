{
  "cells": [
    {
      "cell_type": "markdown",
      "source": [
        "Import necssary libraries and modules"
      ],
      "metadata": {
        "id": "ERK1I-t0Zu1w"
      },
      "id": "ERK1I-t0Zu1w"
    },
    {
      "cell_type": "code",
      "execution_count": null,
      "id": "2c2b5826",
      "metadata": {
        "_cell_guid": "b1076dfc-b9ad-4769-8c92-a6c4dae69d19",
        "_uuid": "8f2839f25d086af736a60e9eeb907d3b93b6e0e5",
        "execution": {
          "iopub.execute_input": "2023-08-21T06:43:48.489492Z",
          "iopub.status.busy": "2023-08-21T06:43:48.488905Z",
          "iopub.status.idle": "2023-08-21T06:43:56.304617Z",
          "shell.execute_reply": "2023-08-21T06:43:56.303530Z"
        },
        "papermill": {
          "duration": 7.8274,
          "end_time": "2023-08-21T06:43:56.307812",
          "exception": false,
          "start_time": "2023-08-21T06:43:48.480412",
          "status": "completed"
        },
        "tags": [],
        "id": "2c2b5826"
      },
      "outputs": [],
      "source": [
        "from google.colab import drive\n",
        "import numpy as np\n",
        "import pandas as pd\n",
        "import matplotlib.pyplot as plt\n",
        "import seaborn as sns\n",
        "\n",
        "from sklearn.preprocessing import StandardScaler\n",
        "from sklearn.decomposition import PCA\n",
        "from sklearn.model_selection import train_test_split\n",
        "\n",
        "from sklearn.neighbors import KNeighborsClassifier\n",
        "from sklearn.tree import DecisionTreeClassifier\n",
        "from sklearn.ensemble import RandomForestClassifier\n",
        "from sklearn.svm import SVC\n",
        "\n",
        "from sklearn.metrics import accuracy_score, precision_score, recall_score"
      ]
    },
    {
      "cell_type": "markdown",
      "source": [
        "Import training, validation and testing datasets"
      ],
      "metadata": {
        "id": "NQKjZUdAZxmP"
      },
      "id": "NQKjZUdAZxmP"
    },
    {
      "cell_type": "code",
      "execution_count": null,
      "id": "cb2fdd34",
      "metadata": {
        "execution": {
          "iopub.execute_input": "2023-08-21T06:43:56.323103Z",
          "iopub.status.busy": "2023-08-21T06:43:56.322448Z",
          "iopub.status.idle": "2023-08-21T06:43:59.974452Z",
          "shell.execute_reply": "2023-08-21T06:43:59.973278Z"
        },
        "papermill": {
          "duration": 3.662684,
          "end_time": "2023-08-21T06:43:59.977287",
          "exception": false,
          "start_time": "2023-08-21T06:43:56.314603",
          "status": "completed"
        },
        "tags": [],
        "id": "cb2fdd34",
        "colab": {
          "base_uri": "https://localhost:8080/"
        },
        "outputId": "cced1aeb-00be-43a4-f8ed-46eb906fb300"
      },
      "outputs": [
        {
          "output_type": "stream",
          "name": "stdout",
          "text": [
            "Mounted at /content/drive\n"
          ]
        }
      ],
      "source": [
        "drive.mount('/content/drive')\n",
        "\n",
        "# file paths for the datasets\n",
        "train_path = '/content/drive/MyDrive/AI-Resources/ML/LAB01/train.csv'\n",
        "valid_path = '/content/drive/MyDrive/AI-Resources/ML/LAB01/valid.csv'\n",
        "test_path = '/content/drive/MyDrive/AI-Resources/ML/LAB01/test.csv'\n",
        "\n",
        "# Load the train dataset\n",
        "train_data = pd.read_csv(train_path)\n",
        "# Load the valid dataset\n",
        "valid_data = pd.read_csv(valid_path)\n",
        "# Load the test dataset\n",
        "test_data = pd.read_csv(test_path)"
      ]
    },
    {
      "cell_type": "markdown",
      "source": [
        "Training data head"
      ],
      "metadata": {
        "id": "CPYyxICMZzdY"
      },
      "id": "CPYyxICMZzdY"
    },
    {
      "cell_type": "code",
      "source": [
        "train_data.head()"
      ],
      "metadata": {
        "colab": {
          "base_uri": "https://localhost:8080/",
          "height": 255
        },
        "id": "60o9SaM9fvAg",
        "outputId": "b62d31ca-9fbd-44e8-8288-368f661c7e8f"
      },
      "id": "60o9SaM9fvAg",
      "execution_count": null,
      "outputs": [
        {
          "output_type": "execute_result",
          "data": {
            "text/plain": [
              "   feature_1  feature_2  feature_3  feature_4  feature_5  feature_6  \\\n",
              "0  -1.928826  -0.291540   1.105909   2.070652   0.657838  -0.670940   \n",
              "1  -1.709277  -1.008998   0.956611   4.313823  -0.669455   1.928765   \n",
              "2  -1.906183  -0.357562  -0.682627   4.651838  -0.884940   1.159512   \n",
              "3   0.697872  -2.218567  -0.572214   1.192062   0.329554   0.741364   \n",
              "4  -1.976895  -0.496308   0.368102   3.739787  -0.132058   1.234980   \n",
              "\n",
              "   feature_7  feature_8  feature_9  feature_10  ...  feature_251  feature_252  \\\n",
              "0  -0.968238   0.049916   1.111149   -1.834592  ...    -0.691538    -1.152522   \n",
              "1   0.162550   0.152173   2.356505   -2.898549  ...    -0.668235    -0.532695   \n",
              "2   1.354481  -1.432248   2.160144   -3.175735  ...    -0.026728     0.440408   \n",
              "3   0.962354   0.993512   2.896854   -1.600380  ...     0.709032     0.812106   \n",
              "4  -0.501003   0.881554   1.630941   -3.853953  ...    -0.599700    -1.024829   \n",
              "\n",
              "   feature_253  feature_254  feature_255  feature_256  label_1  label_2  \\\n",
              "0     0.441157    -1.494434    -0.344974    -0.395641       45      NaN   \n",
              "1     0.151163    -1.876885     1.651534    -2.706490       45      NaN   \n",
              "2     2.745906    -0.680754    -0.643588    -2.587203       45      NaN   \n",
              "3     1.055266    -0.915258    -0.924856    -1.318964       45      NaN   \n",
              "4     1.869753    -2.498570     3.268253    -1.356606       45      NaN   \n",
              "\n",
              "   label_3  label_4  \n",
              "0        1        6  \n",
              "1        1        6  \n",
              "2        1        6  \n",
              "3        1        6  \n",
              "4        1        6  \n",
              "\n",
              "[5 rows x 260 columns]"
            ],
            "text/html": [
              "\n",
              "  <div id=\"df-bdb7cd5a-afae-4941-9918-3e9c5dfd0a3c\" class=\"colab-df-container\">\n",
              "    <div>\n",
              "<style scoped>\n",
              "    .dataframe tbody tr th:only-of-type {\n",
              "        vertical-align: middle;\n",
              "    }\n",
              "\n",
              "    .dataframe tbody tr th {\n",
              "        vertical-align: top;\n",
              "    }\n",
              "\n",
              "    .dataframe thead th {\n",
              "        text-align: right;\n",
              "    }\n",
              "</style>\n",
              "<table border=\"1\" class=\"dataframe\">\n",
              "  <thead>\n",
              "    <tr style=\"text-align: right;\">\n",
              "      <th></th>\n",
              "      <th>feature_1</th>\n",
              "      <th>feature_2</th>\n",
              "      <th>feature_3</th>\n",
              "      <th>feature_4</th>\n",
              "      <th>feature_5</th>\n",
              "      <th>feature_6</th>\n",
              "      <th>feature_7</th>\n",
              "      <th>feature_8</th>\n",
              "      <th>feature_9</th>\n",
              "      <th>feature_10</th>\n",
              "      <th>...</th>\n",
              "      <th>feature_251</th>\n",
              "      <th>feature_252</th>\n",
              "      <th>feature_253</th>\n",
              "      <th>feature_254</th>\n",
              "      <th>feature_255</th>\n",
              "      <th>feature_256</th>\n",
              "      <th>label_1</th>\n",
              "      <th>label_2</th>\n",
              "      <th>label_3</th>\n",
              "      <th>label_4</th>\n",
              "    </tr>\n",
              "  </thead>\n",
              "  <tbody>\n",
              "    <tr>\n",
              "      <th>0</th>\n",
              "      <td>-1.928826</td>\n",
              "      <td>-0.291540</td>\n",
              "      <td>1.105909</td>\n",
              "      <td>2.070652</td>\n",
              "      <td>0.657838</td>\n",
              "      <td>-0.670940</td>\n",
              "      <td>-0.968238</td>\n",
              "      <td>0.049916</td>\n",
              "      <td>1.111149</td>\n",
              "      <td>-1.834592</td>\n",
              "      <td>...</td>\n",
              "      <td>-0.691538</td>\n",
              "      <td>-1.152522</td>\n",
              "      <td>0.441157</td>\n",
              "      <td>-1.494434</td>\n",
              "      <td>-0.344974</td>\n",
              "      <td>-0.395641</td>\n",
              "      <td>45</td>\n",
              "      <td>NaN</td>\n",
              "      <td>1</td>\n",
              "      <td>6</td>\n",
              "    </tr>\n",
              "    <tr>\n",
              "      <th>1</th>\n",
              "      <td>-1.709277</td>\n",
              "      <td>-1.008998</td>\n",
              "      <td>0.956611</td>\n",
              "      <td>4.313823</td>\n",
              "      <td>-0.669455</td>\n",
              "      <td>1.928765</td>\n",
              "      <td>0.162550</td>\n",
              "      <td>0.152173</td>\n",
              "      <td>2.356505</td>\n",
              "      <td>-2.898549</td>\n",
              "      <td>...</td>\n",
              "      <td>-0.668235</td>\n",
              "      <td>-0.532695</td>\n",
              "      <td>0.151163</td>\n",
              "      <td>-1.876885</td>\n",
              "      <td>1.651534</td>\n",
              "      <td>-2.706490</td>\n",
              "      <td>45</td>\n",
              "      <td>NaN</td>\n",
              "      <td>1</td>\n",
              "      <td>6</td>\n",
              "    </tr>\n",
              "    <tr>\n",
              "      <th>2</th>\n",
              "      <td>-1.906183</td>\n",
              "      <td>-0.357562</td>\n",
              "      <td>-0.682627</td>\n",
              "      <td>4.651838</td>\n",
              "      <td>-0.884940</td>\n",
              "      <td>1.159512</td>\n",
              "      <td>1.354481</td>\n",
              "      <td>-1.432248</td>\n",
              "      <td>2.160144</td>\n",
              "      <td>-3.175735</td>\n",
              "      <td>...</td>\n",
              "      <td>-0.026728</td>\n",
              "      <td>0.440408</td>\n",
              "      <td>2.745906</td>\n",
              "      <td>-0.680754</td>\n",
              "      <td>-0.643588</td>\n",
              "      <td>-2.587203</td>\n",
              "      <td>45</td>\n",
              "      <td>NaN</td>\n",
              "      <td>1</td>\n",
              "      <td>6</td>\n",
              "    </tr>\n",
              "    <tr>\n",
              "      <th>3</th>\n",
              "      <td>0.697872</td>\n",
              "      <td>-2.218567</td>\n",
              "      <td>-0.572214</td>\n",
              "      <td>1.192062</td>\n",
              "      <td>0.329554</td>\n",
              "      <td>0.741364</td>\n",
              "      <td>0.962354</td>\n",
              "      <td>0.993512</td>\n",
              "      <td>2.896854</td>\n",
              "      <td>-1.600380</td>\n",
              "      <td>...</td>\n",
              "      <td>0.709032</td>\n",
              "      <td>0.812106</td>\n",
              "      <td>1.055266</td>\n",
              "      <td>-0.915258</td>\n",
              "      <td>-0.924856</td>\n",
              "      <td>-1.318964</td>\n",
              "      <td>45</td>\n",
              "      <td>NaN</td>\n",
              "      <td>1</td>\n",
              "      <td>6</td>\n",
              "    </tr>\n",
              "    <tr>\n",
              "      <th>4</th>\n",
              "      <td>-1.976895</td>\n",
              "      <td>-0.496308</td>\n",
              "      <td>0.368102</td>\n",
              "      <td>3.739787</td>\n",
              "      <td>-0.132058</td>\n",
              "      <td>1.234980</td>\n",
              "      <td>-0.501003</td>\n",
              "      <td>0.881554</td>\n",
              "      <td>1.630941</td>\n",
              "      <td>-3.853953</td>\n",
              "      <td>...</td>\n",
              "      <td>-0.599700</td>\n",
              "      <td>-1.024829</td>\n",
              "      <td>1.869753</td>\n",
              "      <td>-2.498570</td>\n",
              "      <td>3.268253</td>\n",
              "      <td>-1.356606</td>\n",
              "      <td>45</td>\n",
              "      <td>NaN</td>\n",
              "      <td>1</td>\n",
              "      <td>6</td>\n",
              "    </tr>\n",
              "  </tbody>\n",
              "</table>\n",
              "<p>5 rows × 260 columns</p>\n",
              "</div>\n",
              "    <div class=\"colab-df-buttons\">\n",
              "\n",
              "  <div class=\"colab-df-container\">\n",
              "    <button class=\"colab-df-convert\" onclick=\"convertToInteractive('df-bdb7cd5a-afae-4941-9918-3e9c5dfd0a3c')\"\n",
              "            title=\"Convert this dataframe to an interactive table.\"\n",
              "            style=\"display:none;\">\n",
              "\n",
              "  <svg xmlns=\"http://www.w3.org/2000/svg\" height=\"24px\" viewBox=\"0 -960 960 960\">\n",
              "    <path d=\"M120-120v-720h720v720H120Zm60-500h600v-160H180v160Zm220 220h160v-160H400v160Zm0 220h160v-160H400v160ZM180-400h160v-160H180v160Zm440 0h160v-160H620v160ZM180-180h160v-160H180v160Zm440 0h160v-160H620v160Z\"/>\n",
              "  </svg>\n",
              "    </button>\n",
              "\n",
              "  <style>\n",
              "    .colab-df-container {\n",
              "      display:flex;\n",
              "      gap: 12px;\n",
              "    }\n",
              "\n",
              "    .colab-df-convert {\n",
              "      background-color: #E8F0FE;\n",
              "      border: none;\n",
              "      border-radius: 50%;\n",
              "      cursor: pointer;\n",
              "      display: none;\n",
              "      fill: #1967D2;\n",
              "      height: 32px;\n",
              "      padding: 0 0 0 0;\n",
              "      width: 32px;\n",
              "    }\n",
              "\n",
              "    .colab-df-convert:hover {\n",
              "      background-color: #E2EBFA;\n",
              "      box-shadow: 0px 1px 2px rgba(60, 64, 67, 0.3), 0px 1px 3px 1px rgba(60, 64, 67, 0.15);\n",
              "      fill: #174EA6;\n",
              "    }\n",
              "\n",
              "    .colab-df-buttons div {\n",
              "      margin-bottom: 4px;\n",
              "    }\n",
              "\n",
              "    [theme=dark] .colab-df-convert {\n",
              "      background-color: #3B4455;\n",
              "      fill: #D2E3FC;\n",
              "    }\n",
              "\n",
              "    [theme=dark] .colab-df-convert:hover {\n",
              "      background-color: #434B5C;\n",
              "      box-shadow: 0px 1px 3px 1px rgba(0, 0, 0, 0.15);\n",
              "      filter: drop-shadow(0px 1px 2px rgba(0, 0, 0, 0.3));\n",
              "      fill: #FFFFFF;\n",
              "    }\n",
              "  </style>\n",
              "\n",
              "    <script>\n",
              "      const buttonEl =\n",
              "        document.querySelector('#df-bdb7cd5a-afae-4941-9918-3e9c5dfd0a3c button.colab-df-convert');\n",
              "      buttonEl.style.display =\n",
              "        google.colab.kernel.accessAllowed ? 'block' : 'none';\n",
              "\n",
              "      async function convertToInteractive(key) {\n",
              "        const element = document.querySelector('#df-bdb7cd5a-afae-4941-9918-3e9c5dfd0a3c');\n",
              "        const dataTable =\n",
              "          await google.colab.kernel.invokeFunction('convertToInteractive',\n",
              "                                                    [key], {});\n",
              "        if (!dataTable) return;\n",
              "\n",
              "        const docLinkHtml = 'Like what you see? Visit the ' +\n",
              "          '<a target=\"_blank\" href=https://colab.research.google.com/notebooks/data_table.ipynb>data table notebook</a>'\n",
              "          + ' to learn more about interactive tables.';\n",
              "        element.innerHTML = '';\n",
              "        dataTable['output_type'] = 'display_data';\n",
              "        await google.colab.output.renderOutput(dataTable, element);\n",
              "        const docLink = document.createElement('div');\n",
              "        docLink.innerHTML = docLinkHtml;\n",
              "        element.appendChild(docLink);\n",
              "      }\n",
              "    </script>\n",
              "  </div>\n",
              "\n",
              "\n",
              "<div id=\"df-225065e7-f8a7-40cc-9814-da8d98f28aef\">\n",
              "  <button class=\"colab-df-quickchart\" onclick=\"quickchart('df-225065e7-f8a7-40cc-9814-da8d98f28aef')\"\n",
              "            title=\"Suggest charts.\"\n",
              "            style=\"display:none;\">\n",
              "\n",
              "<svg xmlns=\"http://www.w3.org/2000/svg\" height=\"24px\"viewBox=\"0 0 24 24\"\n",
              "     width=\"24px\">\n",
              "    <g>\n",
              "        <path d=\"M19 3H5c-1.1 0-2 .9-2 2v14c0 1.1.9 2 2 2h14c1.1 0 2-.9 2-2V5c0-1.1-.9-2-2-2zM9 17H7v-7h2v7zm4 0h-2V7h2v10zm4 0h-2v-4h2v4z\"/>\n",
              "    </g>\n",
              "</svg>\n",
              "  </button>\n",
              "\n",
              "<style>\n",
              "  .colab-df-quickchart {\n",
              "    background-color: #E8F0FE;\n",
              "    border: none;\n",
              "    border-radius: 50%;\n",
              "    cursor: pointer;\n",
              "    display: none;\n",
              "    fill: #1967D2;\n",
              "    height: 32px;\n",
              "    padding: 0 0 0 0;\n",
              "    width: 32px;\n",
              "  }\n",
              "\n",
              "  .colab-df-quickchart:hover {\n",
              "    background-color: #E2EBFA;\n",
              "    box-shadow: 0px 1px 2px rgba(60, 64, 67, 0.3), 0px 1px 3px 1px rgba(60, 64, 67, 0.15);\n",
              "    fill: #174EA6;\n",
              "  }\n",
              "\n",
              "  [theme=dark] .colab-df-quickchart {\n",
              "    background-color: #3B4455;\n",
              "    fill: #D2E3FC;\n",
              "  }\n",
              "\n",
              "  [theme=dark] .colab-df-quickchart:hover {\n",
              "    background-color: #434B5C;\n",
              "    box-shadow: 0px 1px 3px 1px rgba(0, 0, 0, 0.15);\n",
              "    filter: drop-shadow(0px 1px 2px rgba(0, 0, 0, 0.3));\n",
              "    fill: #FFFFFF;\n",
              "  }\n",
              "</style>\n",
              "\n",
              "  <script>\n",
              "    async function quickchart(key) {\n",
              "      const charts = await google.colab.kernel.invokeFunction(\n",
              "          'suggestCharts', [key], {});\n",
              "    }\n",
              "    (() => {\n",
              "      let quickchartButtonEl =\n",
              "        document.querySelector('#df-225065e7-f8a7-40cc-9814-da8d98f28aef button');\n",
              "      quickchartButtonEl.style.display =\n",
              "        google.colab.kernel.accessAllowed ? 'block' : 'none';\n",
              "    })();\n",
              "  </script>\n",
              "</div>\n",
              "    </div>\n",
              "  </div>\n"
            ]
          },
          "metadata": {},
          "execution_count": 3
        }
      ]
    },
    {
      "cell_type": "markdown",
      "source": [
        "Validating data head"
      ],
      "metadata": {
        "id": "74c6mapiQzM0"
      },
      "id": "74c6mapiQzM0"
    },
    {
      "cell_type": "code",
      "source": [
        "valid_data.head()"
      ],
      "metadata": {
        "colab": {
          "base_uri": "https://localhost:8080/",
          "height": 255
        },
        "id": "YMM_SJmRQ5bc",
        "outputId": "af3feebf-9d20-4c34-c9a6-587198762725"
      },
      "id": "YMM_SJmRQ5bc",
      "execution_count": null,
      "outputs": [
        {
          "output_type": "execute_result",
          "data": {
            "text/plain": [
              "   feature_1  feature_2  feature_3  feature_4  feature_5  feature_6  \\\n",
              "0  -1.153148  -1.038098   1.419872   2.734152   1.154604  -1.086937   \n",
              "1  -1.377524  -1.018393   1.102352   2.849025   0.440302  -1.149039   \n",
              "2   0.889574  -2.743300  -0.320194   3.047766  -0.923335   1.741686   \n",
              "3  -1.527213  -1.133121   0.385927   3.129767   0.229020   1.373105   \n",
              "4   0.948176  -0.750248   0.008329   1.675338   1.941155  -0.783623   \n",
              "\n",
              "   feature_7  feature_8  feature_9  feature_10  ...  feature_251  feature_252  \\\n",
              "0  -0.516225  -1.370325   2.865359   -1.879877  ...    -0.719046    -1.248530   \n",
              "1  -0.789796  -2.258196   1.264268   -2.123730  ...    -1.383339    -0.787736   \n",
              "2  -0.615148   0.756482   2.074775   -1.433126  ...     1.178322     0.035333   \n",
              "3   0.919284  -0.755558   1.086973   -2.440614  ...    -0.664176     0.805059   \n",
              "4  -0.485584  -0.261882   2.875204   -1.473030  ...    -0.665200    -0.428060   \n",
              "\n",
              "   feature_253  feature_254  feature_255  feature_256  label_1  label_2  \\\n",
              "0     0.144460    -3.240056     0.052614     0.083108       45      NaN   \n",
              "1     1.044895    -2.289637     0.199752    -0.712154       45      NaN   \n",
              "2     0.857712    -1.928684     0.639870    -0.268576       45      NaN   \n",
              "3     0.975368    -2.700269     1.523236    -1.259052       45      NaN   \n",
              "4    -0.393100    -1.854657     2.207063    -0.342725       45      NaN   \n",
              "\n",
              "   label_3  label_4  \n",
              "0        1        6  \n",
              "1        1        6  \n",
              "2        1        6  \n",
              "3        1        6  \n",
              "4        1        6  \n",
              "\n",
              "[5 rows x 260 columns]"
            ],
            "text/html": [
              "\n",
              "  <div id=\"df-b83da84a-c76b-44b0-9c83-610597c438f6\" class=\"colab-df-container\">\n",
              "    <div>\n",
              "<style scoped>\n",
              "    .dataframe tbody tr th:only-of-type {\n",
              "        vertical-align: middle;\n",
              "    }\n",
              "\n",
              "    .dataframe tbody tr th {\n",
              "        vertical-align: top;\n",
              "    }\n",
              "\n",
              "    .dataframe thead th {\n",
              "        text-align: right;\n",
              "    }\n",
              "</style>\n",
              "<table border=\"1\" class=\"dataframe\">\n",
              "  <thead>\n",
              "    <tr style=\"text-align: right;\">\n",
              "      <th></th>\n",
              "      <th>feature_1</th>\n",
              "      <th>feature_2</th>\n",
              "      <th>feature_3</th>\n",
              "      <th>feature_4</th>\n",
              "      <th>feature_5</th>\n",
              "      <th>feature_6</th>\n",
              "      <th>feature_7</th>\n",
              "      <th>feature_8</th>\n",
              "      <th>feature_9</th>\n",
              "      <th>feature_10</th>\n",
              "      <th>...</th>\n",
              "      <th>feature_251</th>\n",
              "      <th>feature_252</th>\n",
              "      <th>feature_253</th>\n",
              "      <th>feature_254</th>\n",
              "      <th>feature_255</th>\n",
              "      <th>feature_256</th>\n",
              "      <th>label_1</th>\n",
              "      <th>label_2</th>\n",
              "      <th>label_3</th>\n",
              "      <th>label_4</th>\n",
              "    </tr>\n",
              "  </thead>\n",
              "  <tbody>\n",
              "    <tr>\n",
              "      <th>0</th>\n",
              "      <td>-1.153148</td>\n",
              "      <td>-1.038098</td>\n",
              "      <td>1.419872</td>\n",
              "      <td>2.734152</td>\n",
              "      <td>1.154604</td>\n",
              "      <td>-1.086937</td>\n",
              "      <td>-0.516225</td>\n",
              "      <td>-1.370325</td>\n",
              "      <td>2.865359</td>\n",
              "      <td>-1.879877</td>\n",
              "      <td>...</td>\n",
              "      <td>-0.719046</td>\n",
              "      <td>-1.248530</td>\n",
              "      <td>0.144460</td>\n",
              "      <td>-3.240056</td>\n",
              "      <td>0.052614</td>\n",
              "      <td>0.083108</td>\n",
              "      <td>45</td>\n",
              "      <td>NaN</td>\n",
              "      <td>1</td>\n",
              "      <td>6</td>\n",
              "    </tr>\n",
              "    <tr>\n",
              "      <th>1</th>\n",
              "      <td>-1.377524</td>\n",
              "      <td>-1.018393</td>\n",
              "      <td>1.102352</td>\n",
              "      <td>2.849025</td>\n",
              "      <td>0.440302</td>\n",
              "      <td>-1.149039</td>\n",
              "      <td>-0.789796</td>\n",
              "      <td>-2.258196</td>\n",
              "      <td>1.264268</td>\n",
              "      <td>-2.123730</td>\n",
              "      <td>...</td>\n",
              "      <td>-1.383339</td>\n",
              "      <td>-0.787736</td>\n",
              "      <td>1.044895</td>\n",
              "      <td>-2.289637</td>\n",
              "      <td>0.199752</td>\n",
              "      <td>-0.712154</td>\n",
              "      <td>45</td>\n",
              "      <td>NaN</td>\n",
              "      <td>1</td>\n",
              "      <td>6</td>\n",
              "    </tr>\n",
              "    <tr>\n",
              "      <th>2</th>\n",
              "      <td>0.889574</td>\n",
              "      <td>-2.743300</td>\n",
              "      <td>-0.320194</td>\n",
              "      <td>3.047766</td>\n",
              "      <td>-0.923335</td>\n",
              "      <td>1.741686</td>\n",
              "      <td>-0.615148</td>\n",
              "      <td>0.756482</td>\n",
              "      <td>2.074775</td>\n",
              "      <td>-1.433126</td>\n",
              "      <td>...</td>\n",
              "      <td>1.178322</td>\n",
              "      <td>0.035333</td>\n",
              "      <td>0.857712</td>\n",
              "      <td>-1.928684</td>\n",
              "      <td>0.639870</td>\n",
              "      <td>-0.268576</td>\n",
              "      <td>45</td>\n",
              "      <td>NaN</td>\n",
              "      <td>1</td>\n",
              "      <td>6</td>\n",
              "    </tr>\n",
              "    <tr>\n",
              "      <th>3</th>\n",
              "      <td>-1.527213</td>\n",
              "      <td>-1.133121</td>\n",
              "      <td>0.385927</td>\n",
              "      <td>3.129767</td>\n",
              "      <td>0.229020</td>\n",
              "      <td>1.373105</td>\n",
              "      <td>0.919284</td>\n",
              "      <td>-0.755558</td>\n",
              "      <td>1.086973</td>\n",
              "      <td>-2.440614</td>\n",
              "      <td>...</td>\n",
              "      <td>-0.664176</td>\n",
              "      <td>0.805059</td>\n",
              "      <td>0.975368</td>\n",
              "      <td>-2.700269</td>\n",
              "      <td>1.523236</td>\n",
              "      <td>-1.259052</td>\n",
              "      <td>45</td>\n",
              "      <td>NaN</td>\n",
              "      <td>1</td>\n",
              "      <td>6</td>\n",
              "    </tr>\n",
              "    <tr>\n",
              "      <th>4</th>\n",
              "      <td>0.948176</td>\n",
              "      <td>-0.750248</td>\n",
              "      <td>0.008329</td>\n",
              "      <td>1.675338</td>\n",
              "      <td>1.941155</td>\n",
              "      <td>-0.783623</td>\n",
              "      <td>-0.485584</td>\n",
              "      <td>-0.261882</td>\n",
              "      <td>2.875204</td>\n",
              "      <td>-1.473030</td>\n",
              "      <td>...</td>\n",
              "      <td>-0.665200</td>\n",
              "      <td>-0.428060</td>\n",
              "      <td>-0.393100</td>\n",
              "      <td>-1.854657</td>\n",
              "      <td>2.207063</td>\n",
              "      <td>-0.342725</td>\n",
              "      <td>45</td>\n",
              "      <td>NaN</td>\n",
              "      <td>1</td>\n",
              "      <td>6</td>\n",
              "    </tr>\n",
              "  </tbody>\n",
              "</table>\n",
              "<p>5 rows × 260 columns</p>\n",
              "</div>\n",
              "    <div class=\"colab-df-buttons\">\n",
              "\n",
              "  <div class=\"colab-df-container\">\n",
              "    <button class=\"colab-df-convert\" onclick=\"convertToInteractive('df-b83da84a-c76b-44b0-9c83-610597c438f6')\"\n",
              "            title=\"Convert this dataframe to an interactive table.\"\n",
              "            style=\"display:none;\">\n",
              "\n",
              "  <svg xmlns=\"http://www.w3.org/2000/svg\" height=\"24px\" viewBox=\"0 -960 960 960\">\n",
              "    <path d=\"M120-120v-720h720v720H120Zm60-500h600v-160H180v160Zm220 220h160v-160H400v160Zm0 220h160v-160H400v160ZM180-400h160v-160H180v160Zm440 0h160v-160H620v160ZM180-180h160v-160H180v160Zm440 0h160v-160H620v160Z\"/>\n",
              "  </svg>\n",
              "    </button>\n",
              "\n",
              "  <style>\n",
              "    .colab-df-container {\n",
              "      display:flex;\n",
              "      gap: 12px;\n",
              "    }\n",
              "\n",
              "    .colab-df-convert {\n",
              "      background-color: #E8F0FE;\n",
              "      border: none;\n",
              "      border-radius: 50%;\n",
              "      cursor: pointer;\n",
              "      display: none;\n",
              "      fill: #1967D2;\n",
              "      height: 32px;\n",
              "      padding: 0 0 0 0;\n",
              "      width: 32px;\n",
              "    }\n",
              "\n",
              "    .colab-df-convert:hover {\n",
              "      background-color: #E2EBFA;\n",
              "      box-shadow: 0px 1px 2px rgba(60, 64, 67, 0.3), 0px 1px 3px 1px rgba(60, 64, 67, 0.15);\n",
              "      fill: #174EA6;\n",
              "    }\n",
              "\n",
              "    .colab-df-buttons div {\n",
              "      margin-bottom: 4px;\n",
              "    }\n",
              "\n",
              "    [theme=dark] .colab-df-convert {\n",
              "      background-color: #3B4455;\n",
              "      fill: #D2E3FC;\n",
              "    }\n",
              "\n",
              "    [theme=dark] .colab-df-convert:hover {\n",
              "      background-color: #434B5C;\n",
              "      box-shadow: 0px 1px 3px 1px rgba(0, 0, 0, 0.15);\n",
              "      filter: drop-shadow(0px 1px 2px rgba(0, 0, 0, 0.3));\n",
              "      fill: #FFFFFF;\n",
              "    }\n",
              "  </style>\n",
              "\n",
              "    <script>\n",
              "      const buttonEl =\n",
              "        document.querySelector('#df-b83da84a-c76b-44b0-9c83-610597c438f6 button.colab-df-convert');\n",
              "      buttonEl.style.display =\n",
              "        google.colab.kernel.accessAllowed ? 'block' : 'none';\n",
              "\n",
              "      async function convertToInteractive(key) {\n",
              "        const element = document.querySelector('#df-b83da84a-c76b-44b0-9c83-610597c438f6');\n",
              "        const dataTable =\n",
              "          await google.colab.kernel.invokeFunction('convertToInteractive',\n",
              "                                                    [key], {});\n",
              "        if (!dataTable) return;\n",
              "\n",
              "        const docLinkHtml = 'Like what you see? Visit the ' +\n",
              "          '<a target=\"_blank\" href=https://colab.research.google.com/notebooks/data_table.ipynb>data table notebook</a>'\n",
              "          + ' to learn more about interactive tables.';\n",
              "        element.innerHTML = '';\n",
              "        dataTable['output_type'] = 'display_data';\n",
              "        await google.colab.output.renderOutput(dataTable, element);\n",
              "        const docLink = document.createElement('div');\n",
              "        docLink.innerHTML = docLinkHtml;\n",
              "        element.appendChild(docLink);\n",
              "      }\n",
              "    </script>\n",
              "  </div>\n",
              "\n",
              "\n",
              "<div id=\"df-3bd72702-5171-450a-b6b9-19051c2d7d7d\">\n",
              "  <button class=\"colab-df-quickchart\" onclick=\"quickchart('df-3bd72702-5171-450a-b6b9-19051c2d7d7d')\"\n",
              "            title=\"Suggest charts.\"\n",
              "            style=\"display:none;\">\n",
              "\n",
              "<svg xmlns=\"http://www.w3.org/2000/svg\" height=\"24px\"viewBox=\"0 0 24 24\"\n",
              "     width=\"24px\">\n",
              "    <g>\n",
              "        <path d=\"M19 3H5c-1.1 0-2 .9-2 2v14c0 1.1.9 2 2 2h14c1.1 0 2-.9 2-2V5c0-1.1-.9-2-2-2zM9 17H7v-7h2v7zm4 0h-2V7h2v10zm4 0h-2v-4h2v4z\"/>\n",
              "    </g>\n",
              "</svg>\n",
              "  </button>\n",
              "\n",
              "<style>\n",
              "  .colab-df-quickchart {\n",
              "    background-color: #E8F0FE;\n",
              "    border: none;\n",
              "    border-radius: 50%;\n",
              "    cursor: pointer;\n",
              "    display: none;\n",
              "    fill: #1967D2;\n",
              "    height: 32px;\n",
              "    padding: 0 0 0 0;\n",
              "    width: 32px;\n",
              "  }\n",
              "\n",
              "  .colab-df-quickchart:hover {\n",
              "    background-color: #E2EBFA;\n",
              "    box-shadow: 0px 1px 2px rgba(60, 64, 67, 0.3), 0px 1px 3px 1px rgba(60, 64, 67, 0.15);\n",
              "    fill: #174EA6;\n",
              "  }\n",
              "\n",
              "  [theme=dark] .colab-df-quickchart {\n",
              "    background-color: #3B4455;\n",
              "    fill: #D2E3FC;\n",
              "  }\n",
              "\n",
              "  [theme=dark] .colab-df-quickchart:hover {\n",
              "    background-color: #434B5C;\n",
              "    box-shadow: 0px 1px 3px 1px rgba(0, 0, 0, 0.15);\n",
              "    filter: drop-shadow(0px 1px 2px rgba(0, 0, 0, 0.3));\n",
              "    fill: #FFFFFF;\n",
              "  }\n",
              "</style>\n",
              "\n",
              "  <script>\n",
              "    async function quickchart(key) {\n",
              "      const charts = await google.colab.kernel.invokeFunction(\n",
              "          'suggestCharts', [key], {});\n",
              "    }\n",
              "    (() => {\n",
              "      let quickchartButtonEl =\n",
              "        document.querySelector('#df-3bd72702-5171-450a-b6b9-19051c2d7d7d button');\n",
              "      quickchartButtonEl.style.display =\n",
              "        google.colab.kernel.accessAllowed ? 'block' : 'none';\n",
              "    })();\n",
              "  </script>\n",
              "</div>\n",
              "    </div>\n",
              "  </div>\n"
            ]
          },
          "metadata": {},
          "execution_count": 4
        }
      ]
    },
    {
      "cell_type": "markdown",
      "source": [
        "Preprocess the dataset to eliminate any missing values in the target labels and employ estimation techniques to fill in the missing values present in the features."
      ],
      "metadata": {
        "id": "MUFq0_FsZ23a"
      },
      "id": "MUFq0_FsZ23a"
    },
    {
      "cell_type": "markdown",
      "source": [
        "Drop the rows where there are null values for the lables in the training dataset"
      ],
      "metadata": {
        "id": "uuKoTMPeZ5m4"
      },
      "id": "uuKoTMPeZ5m4"
    },
    {
      "cell_type": "code",
      "source": [
        "# null values in train dataset\n",
        "train_null_counts = train_data.isnull().sum()\n",
        "print(\"null counts in training set : \\n {}\".format(train_null_counts))\n",
        "\n",
        "# Drop rows with null values in the target labels in the train dataset\n",
        "train_data = train_data.dropna(subset=train_data.columns[-4:], how='any')"
      ],
      "metadata": {
        "colab": {
          "base_uri": "https://localhost:8080/"
        },
        "id": "AYFY0DcjM2XV",
        "outputId": "664700f5-b5d7-4049-c3cf-6a6784b85ded"
      },
      "id": "AYFY0DcjM2XV",
      "execution_count": null,
      "outputs": [
        {
          "output_type": "stream",
          "name": "stdout",
          "text": [
            "null counts in training set : \n",
            " feature_1        0\n",
            "feature_2        0\n",
            "feature_3        0\n",
            "feature_4        0\n",
            "feature_5        0\n",
            "              ... \n",
            "feature_256      0\n",
            "label_1          0\n",
            "label_2        480\n",
            "label_3          0\n",
            "label_4          0\n",
            "Length: 260, dtype: int64\n"
          ]
        }
      ]
    },
    {
      "cell_type": "markdown",
      "source": [
        "Impute the missing values within the training, validation, and testing datasets by substituting them with the respective mean values of the features."
      ],
      "metadata": {
        "id": "9VkjPvmzZ7XY"
      },
      "id": "9VkjPvmzZ7XY"
    },
    {
      "cell_type": "code",
      "source": [
        "# Fill null values with mean in train dataset\n",
        "train_data = train_data.fillna(train_data.mean())\n",
        "\n",
        "# Fill null values with mean in test dataset\n",
        "test_data = test_data.fillna(test_data.mean())\n",
        "\n",
        "# Fill null values with mean in valid dataset\n",
        "valid_data = valid_data.fillna(valid_data.mean())"
      ],
      "metadata": {
        "id": "yHuQyDA_hQ45"
      },
      "id": "yHuQyDA_hQ45",
      "execution_count": null,
      "outputs": []
    },
    {
      "cell_type": "markdown",
      "source": [
        "Separate features and labels in the datasets"
      ],
      "metadata": {
        "id": "S7UdDTobZ_YA"
      },
      "id": "S7UdDTobZ_YA"
    },
    {
      "cell_type": "code",
      "execution_count": null,
      "id": "0b109c24",
      "metadata": {
        "execution": {
          "iopub.execute_input": "2023-08-21T06:44:03.015322Z",
          "iopub.status.busy": "2023-08-21T06:44:03.014842Z",
          "iopub.status.idle": "2023-08-21T06:44:03.050926Z",
          "shell.execute_reply": "2023-08-21T06:44:03.049589Z"
        },
        "papermill": {
          "duration": 0.048254,
          "end_time": "2023-08-21T06:44:03.053590",
          "exception": false,
          "start_time": "2023-08-21T06:44:03.005336",
          "status": "completed"
        },
        "tags": [],
        "id": "0b109c24"
      },
      "outputs": [],
      "source": [
        "# Separate features and labels in train dataset\n",
        "train_features = train_data.iloc[:, :-4]\n",
        "train_labels = train_data.iloc[:, -4:]\n",
        "\n",
        "# Separate features and labels in valid dataset\n",
        "valid_features = valid_data.iloc[:, :-4]\n",
        "valid_labels = valid_data.iloc[:, -4:]\n",
        "\n",
        "# Separate features and labels in test dataset\n",
        "test_features = test_data.iloc[:, :-4]\n",
        "test_labels = test_data.iloc[:, -4:]"
      ]
    },
    {
      "cell_type": "markdown",
      "source": [
        "Extract the fourth label in the train, valid and test datasets"
      ],
      "metadata": {
        "id": "pOND6NpXaAw4"
      },
      "id": "pOND6NpXaAw4"
    },
    {
      "cell_type": "code",
      "execution_count": null,
      "id": "11d9f222",
      "metadata": {
        "execution": {
          "iopub.execute_input": "2023-08-21T06:44:03.109094Z",
          "iopub.status.busy": "2023-08-21T06:44:03.108306Z",
          "iopub.status.idle": "2023-08-21T06:44:03.113613Z",
          "shell.execute_reply": "2023-08-21T06:44:03.112740Z"
        },
        "papermill": {
          "duration": 0.018474,
          "end_time": "2023-08-21T06:44:03.115920",
          "exception": false,
          "start_time": "2023-08-21T06:44:03.097446",
          "status": "completed"
        },
        "tags": [],
        "id": "11d9f222"
      },
      "outputs": [],
      "source": [
        "# get the fourth label of the train dataset\n",
        "train_label4 = train_labels.iloc[:,3]\n",
        "\n",
        "# get the fourth label of the valid dataset\n",
        "valid_label4 = valid_labels.iloc[:,3]\n",
        "\n",
        "# get the fourth label of the test dataset\n",
        "test_label4 = test_labels.iloc[:,3]"
      ]
    },
    {
      "cell_type": "markdown",
      "source": [
        "# Predicting Label 4 - without Feature Engineering"
      ],
      "metadata": {
        "id": "iq5aMLA5aHYI"
      },
      "id": "iq5aMLA5aHYI"
    },
    {
      "cell_type": "markdown",
      "source": [
        "Create duplicates of the dataset's features and labels for utilization in the models without any feature engineering techniques."
      ],
      "metadata": {
        "id": "_5AlATbCaL2g"
      },
      "id": "_5AlATbCaL2g"
    },
    {
      "cell_type": "code",
      "source": [
        "# Make a copy features and labels in train dataset\n",
        "train_features_copy = train_features.copy()\n",
        "train_labels_copy = train_labels.copy()\n",
        "\n",
        "# Make a copy features and labels in valid dataset\n",
        "valid_features_copy = valid_features.copy()\n",
        "valid_labels_copy = valid_labels.copy()\n",
        "\n",
        "# Make a copy features and labels in test dataset\n",
        "test_features_copy = test_features.copy()\n",
        "test_labels_copy = test_labels.copy()"
      ],
      "metadata": {
        "id": "azGUy0UOaNwg"
      },
      "id": "azGUy0UOaNwg",
      "execution_count": null,
      "outputs": []
    },
    {
      "cell_type": "markdown",
      "source": [
        "Duplicate the label 4 of the datasets to be used in the models without feature engineering"
      ],
      "metadata": {
        "id": "NgYfBzA6aQvY"
      },
      "id": "NgYfBzA6aQvY"
    },
    {
      "cell_type": "code",
      "source": [
        "# Make a copy of the fourth label of the train dataset\n",
        "train_label4_copy = train_label4.copy()\n",
        "\n",
        "# Make a copy of the fourth label of the valid dataset\n",
        "valid_label4_copy = valid_label4.copy()\n",
        "\n",
        "# Make a copy of the fourth label of the test dataset\n",
        "test_label4_copy = test_label4.copy()"
      ],
      "metadata": {
        "id": "jv2zZw4QaThx"
      },
      "id": "jv2zZw4QaThx",
      "execution_count": null,
      "outputs": []
    },
    {
      "cell_type": "markdown",
      "source": [
        "Standardize the features of all datasets"
      ],
      "metadata": {
        "id": "1Y4s_WP1agLC"
      },
      "id": "1Y4s_WP1agLC"
    },
    {
      "cell_type": "code",
      "source": [
        "# Standardize the features\n",
        "scaler = StandardScaler()\n",
        "train_features_copy = scaler.fit_transform(train_features_copy)\n",
        "valid_features_copy = scaler.transform(valid_features_copy)\n",
        "test_features_copy = scaler.transform(test_features_copy)"
      ],
      "metadata": {
        "id": "U_e0yGmTahdA"
      },
      "id": "U_e0yGmTahdA",
      "execution_count": null,
      "outputs": []
    },
    {
      "cell_type": "markdown",
      "source": [
        "Use the raw scaled features to train the best model"
      ],
      "metadata": {
        "id": "AfVocnf1akyJ"
      },
      "id": "AfVocnf1akyJ"
    },
    {
      "cell_type": "code",
      "source": [
        "best_model = KNeighborsClassifier()\n",
        "\n",
        "best_model.fit(train_features_copy, train_label4_copy)"
      ],
      "metadata": {
        "colab": {
          "base_uri": "https://localhost:8080/",
          "height": 74
        },
        "id": "0GcDN23saq-A",
        "outputId": "fe105a74-0d42-4315-fdc3-77e328fc9da9"
      },
      "id": "0GcDN23saq-A",
      "execution_count": null,
      "outputs": [
        {
          "output_type": "execute_result",
          "data": {
            "text/plain": [
              "KNeighborsClassifier()"
            ],
            "text/html": [
              "<style>#sk-container-id-1 {color: black;background-color: white;}#sk-container-id-1 pre{padding: 0;}#sk-container-id-1 div.sk-toggleable {background-color: white;}#sk-container-id-1 label.sk-toggleable__label {cursor: pointer;display: block;width: 100%;margin-bottom: 0;padding: 0.3em;box-sizing: border-box;text-align: center;}#sk-container-id-1 label.sk-toggleable__label-arrow:before {content: \"▸\";float: left;margin-right: 0.25em;color: #696969;}#sk-container-id-1 label.sk-toggleable__label-arrow:hover:before {color: black;}#sk-container-id-1 div.sk-estimator:hover label.sk-toggleable__label-arrow:before {color: black;}#sk-container-id-1 div.sk-toggleable__content {max-height: 0;max-width: 0;overflow: hidden;text-align: left;background-color: #f0f8ff;}#sk-container-id-1 div.sk-toggleable__content pre {margin: 0.2em;color: black;border-radius: 0.25em;background-color: #f0f8ff;}#sk-container-id-1 input.sk-toggleable__control:checked~div.sk-toggleable__content {max-height: 200px;max-width: 100%;overflow: auto;}#sk-container-id-1 input.sk-toggleable__control:checked~label.sk-toggleable__label-arrow:before {content: \"▾\";}#sk-container-id-1 div.sk-estimator input.sk-toggleable__control:checked~label.sk-toggleable__label {background-color: #d4ebff;}#sk-container-id-1 div.sk-label input.sk-toggleable__control:checked~label.sk-toggleable__label {background-color: #d4ebff;}#sk-container-id-1 input.sk-hidden--visually {border: 0;clip: rect(1px 1px 1px 1px);clip: rect(1px, 1px, 1px, 1px);height: 1px;margin: -1px;overflow: hidden;padding: 0;position: absolute;width: 1px;}#sk-container-id-1 div.sk-estimator {font-family: monospace;background-color: #f0f8ff;border: 1px dotted black;border-radius: 0.25em;box-sizing: border-box;margin-bottom: 0.5em;}#sk-container-id-1 div.sk-estimator:hover {background-color: #d4ebff;}#sk-container-id-1 div.sk-parallel-item::after {content: \"\";width: 100%;border-bottom: 1px solid gray;flex-grow: 1;}#sk-container-id-1 div.sk-label:hover label.sk-toggleable__label {background-color: #d4ebff;}#sk-container-id-1 div.sk-serial::before {content: \"\";position: absolute;border-left: 1px solid gray;box-sizing: border-box;top: 0;bottom: 0;left: 50%;z-index: 0;}#sk-container-id-1 div.sk-serial {display: flex;flex-direction: column;align-items: center;background-color: white;padding-right: 0.2em;padding-left: 0.2em;position: relative;}#sk-container-id-1 div.sk-item {position: relative;z-index: 1;}#sk-container-id-1 div.sk-parallel {display: flex;align-items: stretch;justify-content: center;background-color: white;position: relative;}#sk-container-id-1 div.sk-item::before, #sk-container-id-1 div.sk-parallel-item::before {content: \"\";position: absolute;border-left: 1px solid gray;box-sizing: border-box;top: 0;bottom: 0;left: 50%;z-index: -1;}#sk-container-id-1 div.sk-parallel-item {display: flex;flex-direction: column;z-index: 1;position: relative;background-color: white;}#sk-container-id-1 div.sk-parallel-item:first-child::after {align-self: flex-end;width: 50%;}#sk-container-id-1 div.sk-parallel-item:last-child::after {align-self: flex-start;width: 50%;}#sk-container-id-1 div.sk-parallel-item:only-child::after {width: 0;}#sk-container-id-1 div.sk-dashed-wrapped {border: 1px dashed gray;margin: 0 0.4em 0.5em 0.4em;box-sizing: border-box;padding-bottom: 0.4em;background-color: white;}#sk-container-id-1 div.sk-label label {font-family: monospace;font-weight: bold;display: inline-block;line-height: 1.2em;}#sk-container-id-1 div.sk-label-container {text-align: center;}#sk-container-id-1 div.sk-container {/* jupyter's `normalize.less` sets `[hidden] { display: none; }` but bootstrap.min.css set `[hidden] { display: none !important; }` so we also need the `!important` here to be able to override the default hidden behavior on the sphinx rendered scikit-learn.org. See: https://github.com/scikit-learn/scikit-learn/issues/21755 */display: inline-block !important;position: relative;}#sk-container-id-1 div.sk-text-repr-fallback {display: none;}</style><div id=\"sk-container-id-1\" class=\"sk-top-container\"><div class=\"sk-text-repr-fallback\"><pre>KNeighborsClassifier()</pre><b>In a Jupyter environment, please rerun this cell to show the HTML representation or trust the notebook. <br />On GitHub, the HTML representation is unable to render, please try loading this page with nbviewer.org.</b></div><div class=\"sk-container\" hidden><div class=\"sk-item\"><div class=\"sk-estimator sk-toggleable\"><input class=\"sk-toggleable__control sk-hidden--visually\" id=\"sk-estimator-id-1\" type=\"checkbox\" checked><label for=\"sk-estimator-id-1\" class=\"sk-toggleable__label sk-toggleable__label-arrow\">KNeighborsClassifier</label><div class=\"sk-toggleable__content\"><pre>KNeighborsClassifier()</pre></div></div></div></div></div>"
            ]
          },
          "metadata": {},
          "execution_count": 13
        }
      ]
    },
    {
      "cell_type": "markdown",
      "source": [
        "Used the trained model on all features to predict the valid and get metrics"
      ],
      "metadata": {
        "id": "hGJTDjXAavbI"
      },
      "id": "hGJTDjXAavbI"
    },
    {
      "cell_type": "code",
      "source": [
        "# Predict on the train data\n",
        "y_pred_base_train = best_model.predict(train_features_copy)\n",
        "\n",
        "# Calculate metrics for classification evaluation\n",
        "accuracy = accuracy_score(train_label4_copy, y_pred_base_train)\n",
        "precision = precision_score(train_label4_copy, y_pred_base_train, average='weighted' , zero_division=1)\n",
        "recall = recall_score(train_label4_copy, y_pred_base_train, average='weighted')\n",
        "\n",
        "print(f\"Metrics for KNN on train data:\")\n",
        "print(f\"Accuracy: {accuracy:.2f}\")\n",
        "print(f\"Precision: {precision:.2f}\")\n",
        "print(f\"Recall: {recall:.2f}\")\n",
        "print(\"\\n\")\n",
        "\n",
        "# Predict on the validation data\n",
        "y_pred_base_valid = best_model.predict(valid_features_copy)\n",
        "\n",
        "# Calculate metrics for classification evaluation on validation data\n",
        "accuracy = accuracy_score(valid_label4_copy, y_pred_base_valid)\n",
        "precision = precision_score(valid_label4_copy, y_pred_base_valid, average='weighted', zero_division=1)\n",
        "recall = recall_score(valid_label4_copy, y_pred_base_valid, average='weighted')\n",
        "\n",
        "print(f\"Metrics for KNN on valid data:\")\n",
        "print(f\"Accuracy: {accuracy:.2f}\")\n",
        "print(f\"Precision: {precision:.2f}\")\n",
        "print(f\"Recall: {recall:.2f}\")\n",
        "print(\"\\n\")"
      ],
      "metadata": {
        "id": "nFkV64Uoaw1f",
        "colab": {
          "base_uri": "https://localhost:8080/"
        },
        "outputId": "b0d24731-b196-4241-d22e-237b9f1e7ffd"
      },
      "id": "nFkV64Uoaw1f",
      "execution_count": null,
      "outputs": [
        {
          "output_type": "stream",
          "name": "stdout",
          "text": [
            "Metrics for KNN on train data:\n",
            "Accuracy: 1.00\n",
            "Precision: 1.00\n",
            "Recall: 1.00\n",
            "\n",
            "\n",
            "Metrics for KNN on valid data:\n",
            "Accuracy: 0.99\n",
            "Precision: 0.99\n",
            "Recall: 0.99\n",
            "\n",
            "\n"
          ]
        }
      ]
    },
    {
      "cell_type": "markdown",
      "source": [
        "Predict the label 4 on test dataset"
      ],
      "metadata": {
        "id": "38BzfP6XZDN9"
      },
      "id": "38BzfP6XZDN9"
    },
    {
      "cell_type": "code",
      "source": [
        "# Predict on the test data\n",
        "y_pred_base_test = best_model.predict(test_features_copy)"
      ],
      "metadata": {
        "id": "BNLRuDi9ZFj9"
      },
      "id": "BNLRuDi9ZFj9",
      "execution_count": null,
      "outputs": []
    },
    {
      "cell_type": "markdown",
      "source": [
        "# Predicting Label 4 - with Feature Engineering"
      ],
      "metadata": {
        "id": "6IUZ6lC3a7G3"
      },
      "id": "6IUZ6lC3a7G3"
    },
    {
      "cell_type": "markdown",
      "source": [
        "## Feature Engineering"
      ],
      "metadata": {
        "id": "NtBnS0dRa_U5"
      },
      "id": "NtBnS0dRa_U5"
    },
    {
      "cell_type": "markdown",
      "source": [
        "Use feature extraction based on PCA and feature selection based on correlation matrix"
      ],
      "metadata": {
        "id": "NdUlpDM5bCoo"
      },
      "id": "NdUlpDM5bCoo"
    },
    {
      "cell_type": "markdown",
      "source": [
        "Standardize the features of all datasets"
      ],
      "metadata": {
        "id": "-hu78wtFbcfJ"
      },
      "id": "-hu78wtFbcfJ"
    },
    {
      "cell_type": "code",
      "source": [
        "# Standardize the features\n",
        "scaler = StandardScaler()\n",
        "standardized_train_features = scaler.fit_transform(train_features)\n",
        "standardized_valid_features = scaler.transform(valid_features)\n",
        "standardized_test_features = scaler.transform(test_features)"
      ],
      "metadata": {
        "id": "h0xRDSSvJMrP"
      },
      "id": "h0xRDSSvJMrP",
      "execution_count": null,
      "outputs": []
    },
    {
      "cell_type": "markdown",
      "source": [
        "### Feature Extraction"
      ],
      "metadata": {
        "id": "f2_gAXZbbgUp"
      },
      "id": "f2_gAXZbbgUp"
    },
    {
      "cell_type": "markdown",
      "source": [
        "Identify the features that have a strong impact on predicting the label by utilizing Principal Component Analysis (PCA).\n",
        "\n",
        "Identify the features that collectively account for 99% of the label's variability.\n",
        "\n",
        "Show the proportions of explained variance for each principal component."
      ],
      "metadata": {
        "id": "peD3bbtYbh3x"
      },
      "id": "peD3bbtYbh3x"
    },
    {
      "cell_type": "code",
      "execution_count": null,
      "id": "2e1010ea",
      "metadata": {
        "execution": {
          "iopub.execute_input": "2023-08-21T06:44:10.216770Z",
          "iopub.status.busy": "2023-08-21T06:44:10.216373Z",
          "iopub.status.idle": "2023-08-21T06:44:12.163040Z",
          "shell.execute_reply": "2023-08-21T06:44:12.161852Z"
        },
        "papermill": {
          "duration": 1.961131,
          "end_time": "2023-08-21T06:44:12.167024",
          "exception": false,
          "start_time": "2023-08-21T06:44:10.205893",
          "status": "completed"
        },
        "tags": [],
        "colab": {
          "base_uri": "https://localhost:8080/",
          "height": 906
        },
        "id": "2e1010ea",
        "outputId": "79ea1aa4-d0b8-4f21-b853-8fa88a6cf35b"
      },
      "outputs": [
        {
          "output_type": "display_data",
          "data": {
            "text/plain": [
              "<Figure size 1800x1000 with 1 Axes>"
            ],
            "image/png": "[encoded data removed]"
          },
          "metadata": {}
        },
        {
          "output_type": "stream",
          "name": "stdout",
          "text": [
            "\n",
            "Reduced Train feature matrix shape: (28040, 106)\n",
            "Reduced valid feature matrix shape: (750, 106)\n",
            "Reduced test feature matrix shape: (750, 106)\n"
          ]
        }
      ],
      "source": [
        "variance_threshold = 0.99\n",
        "\n",
        "# Apply PCA\n",
        "pca = PCA(n_components=variance_threshold, svd_solver='full')\n",
        "\n",
        "pca_train_result = pca.fit_transform(standardized_train_features)\n",
        "pca_valid_result = pca.transform(standardized_valid_features)\n",
        "pca_test_result = pca.transform(standardized_test_features)\n",
        "\n",
        "# Explained variance ratio after dimensionality reduction\n",
        "explained_variance_ratio_reduced = pca.explained_variance_ratio_\n",
        "\n",
        "# Plot explained variance ratio\n",
        "plt.figure(figsize=(18, 10))\n",
        "plt.bar(range(1, pca_train_result.shape[1] + 1), explained_variance_ratio_reduced)\n",
        "plt.xlabel('Principal Component')\n",
        "plt.ylabel('Explained Variance Ratio')\n",
        "plt.title('Explained Variance Ratio per Principal Component (Reduced)')\n",
        "plt.show()\n",
        "\n",
        "# Display the reduced feature matrix\n",
        "print(\"\\nReduced Train feature matrix shape: {}\".format(pca_train_result.shape))\n",
        "print(\"Reduced valid feature matrix shape: {}\".format(pca_valid_result.shape))\n",
        "print(\"Reduced test feature matrix shape: {}\".format(pca_test_result.shape))"
      ]
    },
    {
      "cell_type": "markdown",
      "source": [
        "### Feature Selection"
      ],
      "metadata": {
        "id": "nmcBER_-bE5w"
      },
      "id": "nmcBER_-bE5w"
    },
    {
      "cell_type": "markdown",
      "source": [
        "Visualize the distribution of the training label 1"
      ],
      "metadata": {
        "id": "tEqMJSOxbIUp"
      },
      "id": "tEqMJSOxbIUp"
    },
    {
      "cell_type": "code",
      "execution_count": null,
      "id": "0ae5ac21",
      "metadata": {
        "execution": {
          "iopub.execute_input": "2023-08-21T06:44:03.159913Z",
          "iopub.status.busy": "2023-08-21T06:44:03.159094Z",
          "iopub.status.idle": "2023-08-21T06:44:03.541767Z",
          "shell.execute_reply": "2023-08-21T06:44:03.540556Z"
        },
        "papermill": {
          "duration": 0.394884,
          "end_time": "2023-08-21T06:44:03.544350",
          "exception": false,
          "start_time": "2023-08-21T06:44:03.149466",
          "status": "completed"
        },
        "tags": [],
        "colab": {
          "base_uri": "https://localhost:8080/",
          "height": 447
        },
        "id": "0ae5ac21",
        "outputId": "81572bf8-0418-4793-9d06-110c31eacecb"
      },
      "outputs": [
        {
          "output_type": "display_data",
          "data": {
            "text/plain": [
              "<Figure size 2200x600 with 1 Axes>"
            ],
            "image/png": "[encoded data removed]"
          },
          "metadata": {}
        }
      ],
      "source": [
        "labels, counts = np.unique(train_label4, return_counts=True)\n",
        "\n",
        "plt.figure(figsize=(22, 6))\n",
        "plt.xticks(labels)\n",
        "plt.bar(labels, counts)\n",
        "plt.xlabel('Target Label 1')\n",
        "plt.ylabel('Frequency')\n",
        "plt.title('Distribution of Target Label 1')\n",
        "plt.show()"
      ]
    },
    {
      "cell_type": "code",
      "source": [
        "pca_train_result_df = pd.DataFrame(pca_train_result)\n",
        "pca_valid_result_df = pd.DataFrame(pca_valid_result)\n",
        "pca_test_result_df = pd.DataFrame(pca_test_result)"
      ],
      "metadata": {
        "id": "kl4lNHIrCiRL"
      },
      "id": "kl4lNHIrCiRL",
      "execution_count": null,
      "outputs": []
    },
    {
      "cell_type": "markdown",
      "source": [
        "Calculate the correlation matrix of the reduced training data features using PCA"
      ],
      "metadata": {
        "id": "d_WydCoQbPbq"
      },
      "id": "d_WydCoQbPbq"
    },
    {
      "cell_type": "code",
      "execution_count": null,
      "id": "f499de0c",
      "metadata": {
        "execution": {
          "iopub.execute_input": "2023-08-21T06:44:03.563376Z",
          "iopub.status.busy": "2023-08-21T06:44:03.562921Z",
          "iopub.status.idle": "2023-08-21T06:44:09.927832Z",
          "shell.execute_reply": "2023-08-21T06:44:09.926659Z"
        },
        "papermill": {
          "duration": 6.377476,
          "end_time": "2023-08-21T06:44:09.930574",
          "exception": false,
          "start_time": "2023-08-21T06:44:03.553098",
          "status": "completed"
        },
        "tags": [],
        "colab": {
          "base_uri": "https://localhost:8080/",
          "height": 1000
        },
        "id": "f499de0c",
        "outputId": "1d6167c4-f19e-49dc-89e9-d90d85bb7799"
      },
      "outputs": [
        {
          "output_type": "display_data",
          "data": {
            "text/plain": [
              "<Figure size 1200x1200 with 2 Axes>"
            ],
            "image/png": "[encoded data removed]"
          },
          "metadata": {}
        }
      ],
      "source": [
        "#Calculate the correlation matrix\n",
        "\n",
        "correlation_matrix = pca_train_result_df.corr()\n",
        "\n",
        "mask = np.triu(np.ones_like(correlation_matrix))\n",
        "\n",
        "# Create a heatmap of the correlation matrix using seaborn\n",
        "plt.figure(figsize=(12, 12))\n",
        "sns.heatmap(correlation_matrix, cmap='coolwarm', center=0, mask=mask)\n",
        "plt.title(\"Correlation Matrix\")\n",
        "plt.show()"
      ]
    },
    {
      "cell_type": "markdown",
      "source": [
        "Identify the features that are highly correlated with each other using the PCA reduced traning dataset."
      ],
      "metadata": {
        "id": "9eVtN5Z5bRh5"
      },
      "id": "9eVtN5Z5bRh5"
    },
    {
      "cell_type": "code",
      "source": [
        "# Set the threshold for correlation\n",
        "correlation_threshold = 0.5\n",
        "\n",
        "highly_correlated = set()\n",
        "\n",
        "# Find highly correlated features\n",
        "for i in range(len(correlation_matrix.columns)):\n",
        "    for j in range(i):\n",
        "        if abs(correlation_matrix.iloc[i, j]) > correlation_threshold:\n",
        "            colname = correlation_matrix.columns[i]\n",
        "            highly_correlated.add(colname)\n",
        "\n",
        "print(highly_correlated)"
      ],
      "metadata": {
        "colab": {
          "base_uri": "https://localhost:8080/"
        },
        "id": "24YaDUXopukC",
        "outputId": "3c04becc-d42d-47da-8503-254f8f26b8f8"
      },
      "id": "24YaDUXopukC",
      "execution_count": null,
      "outputs": [
        {
          "output_type": "stream",
          "name": "stdout",
          "text": [
            "set()\n"
          ]
        }
      ]
    },
    {
      "cell_type": "markdown",
      "source": [
        "Remove the previously identified highly correlated features from all the datasets"
      ],
      "metadata": {
        "id": "jpl3fvT5bTfx"
      },
      "id": "jpl3fvT5bTfx"
    },
    {
      "cell_type": "code",
      "source": [
        "# Remove highly correlated features\n",
        "train_features = pca_train_result_df.drop(columns=highly_correlated)\n",
        "valid_features = pca_valid_result_df.drop(columns=highly_correlated)\n",
        "test_features = pca_test_result_df.drop(columns=highly_correlated)"
      ],
      "metadata": {
        "id": "TAIl8LFMIKXG"
      },
      "id": "TAIl8LFMIKXG",
      "execution_count": null,
      "outputs": []
    },
    {
      "cell_type": "markdown",
      "source": [
        "Display the resulting feature shapes of the datasets"
      ],
      "metadata": {
        "id": "LGEBHS8JbVNB"
      },
      "id": "LGEBHS8JbVNB"
    },
    {
      "cell_type": "code",
      "source": [
        "# Display the filtered feature counts\n",
        "print(\"Filtered train features: {}\".format(train_features.shape))\n",
        "print(\"Filtered valid features: {}\".format(valid_features.shape))\n",
        "print(\"Filtered test features: {}\".format(test_features.shape))"
      ],
      "metadata": {
        "colab": {
          "base_uri": "https://localhost:8080/"
        },
        "id": "nYukZvizr-yC",
        "outputId": "9e81d726-51d6-4ee6-d1fc-ff4a2849bc61"
      },
      "id": "nYukZvizr-yC",
      "execution_count": null,
      "outputs": [
        {
          "output_type": "stream",
          "name": "stdout",
          "text": [
            "Filtered train features: (28040, 106)\n",
            "Filtered valid features: (750, 106)\n",
            "Filtered test features: (750, 106)\n"
          ]
        }
      ]
    },
    {
      "cell_type": "markdown",
      "source": [
        "Identify the features that are highly correlated with the label using the traning dataset"
      ],
      "metadata": {
        "id": "zJDA24_8bXCY"
      },
      "id": "zJDA24_8bXCY"
    },
    {
      "cell_type": "code",
      "execution_count": null,
      "id": "50f54053",
      "metadata": {
        "execution": {
          "iopub.execute_input": "2023-08-21T06:44:09.949907Z",
          "iopub.status.busy": "2023-08-21T06:44:09.949526Z",
          "iopub.status.idle": "2023-08-21T06:44:10.193805Z",
          "shell.execute_reply": "2023-08-21T06:44:10.191840Z"
        },
        "papermill": {
          "duration": 0.256811,
          "end_time": "2023-08-21T06:44:10.196551",
          "exception": false,
          "start_time": "2023-08-21T06:44:09.939740",
          "status": "completed"
        },
        "tags": [],
        "colab": {
          "base_uri": "https://localhost:8080/"
        },
        "id": "50f54053",
        "outputId": "6d8165a3-87f1-457e-d96d-5eb1b4b5f068"
      },
      "outputs": [
        {
          "output_type": "stream",
          "name": "stdout",
          "text": [
            "Number of features : 43\n"
          ]
        }
      ],
      "source": [
        "# Calculate the correlation matrix between features and train_label4\n",
        "correlation_with_target = pca_train_result_df.corrwith(train_label4)\n",
        "\n",
        "# Set the correlation threshold\n",
        "correlation_threshold = 0.03\n",
        "\n",
        "# Select features that meet the correlation threshold\n",
        "highly_correlated_features = correlation_with_target[correlation_with_target.abs() > correlation_threshold]\n",
        "\n",
        "print(\"Number of features :\", highly_correlated_features.shape[0])"
      ]
    },
    {
      "cell_type": "markdown",
      "source": [
        "Extract the features that are only highly correlated with the label from all datasets"
      ],
      "metadata": {
        "id": "UhvxgdUtbZNb"
      },
      "id": "UhvxgdUtbZNb"
    },
    {
      "cell_type": "code",
      "source": [
        "# Drop the features with low correlated in train data\n",
        "train_features = train_features[highly_correlated_features.index]\n",
        "\n",
        "# Drop the features with low correlated in valid data\n",
        "valid_features = valid_features[highly_correlated_features.index]\n",
        "\n",
        "# Drop the features with low correlated in test data\n",
        "test_features = test_features[highly_correlated_features.index]"
      ],
      "metadata": {
        "id": "z0uFASxVIoLm"
      },
      "id": "z0uFASxVIoLm",
      "execution_count": null,
      "outputs": []
    },
    {
      "cell_type": "markdown",
      "source": [
        "Display the resulting feature shapes of the datasets"
      ],
      "metadata": {
        "id": "zbtCGFV6ba1Q"
      },
      "id": "zbtCGFV6ba1Q"
    },
    {
      "cell_type": "code",
      "source": [
        "# Display the filtered train feature count\n",
        "print(\"Filtered train features: {}\".format(train_features.shape))\n",
        "\n",
        "# Display the filtered valid feature count\n",
        "print(\"Filtered valid features: {}\".format(valid_features.shape))\n",
        "\n",
        "# Display the filtered test feature count\n",
        "print(\"Filtered test features: {}\".format(test_features.shape))"
      ],
      "metadata": {
        "colab": {
          "base_uri": "https://localhost:8080/"
        },
        "id": "YO7iJyJMCkvF",
        "outputId": "cbe9e41a-f789-424b-ffee-be5640aa0ae1"
      },
      "id": "YO7iJyJMCkvF",
      "execution_count": null,
      "outputs": [
        {
          "output_type": "stream",
          "name": "stdout",
          "text": [
            "Filtered train features: (28040, 43)\n",
            "Filtered valid features: (750, 43)\n",
            "Filtered test features: (750, 43)\n"
          ]
        }
      ]
    },
    {
      "cell_type": "markdown",
      "source": [
        "## Model Selection"
      ],
      "metadata": {
        "id": "I5tSC-0fblqK"
      },
      "id": "I5tSC-0fblqK"
    },
    {
      "cell_type": "markdown",
      "source": [
        "Used models for the evaluation"
      ],
      "metadata": {
        "id": "QUYBH3LHPX_5"
      },
      "id": "QUYBH3LHPX_5"
    },
    {
      "cell_type": "code",
      "source": [
        "classification_models = [\n",
        "    ('K Neighbors', KNeighborsClassifier()),\n",
        "    # ('Decision Tree', DecisionTreeClassifier()),\n",
        "    # ('Random Forest', RandomForestClassifier()),\n",
        "    # ('XGBoost', XGBClassifier()),\n",
        "    # ('SVM', SVC())\n",
        "]"
      ],
      "metadata": {
        "id": "j8ZmM-XQPlru"
      },
      "id": "j8ZmM-XQPlru",
      "execution_count": null,
      "outputs": []
    },
    {
      "cell_type": "markdown",
      "source": [
        "Select the model that best predicts the valid and test datasets based on accuracy, precision and recall"
      ],
      "metadata": {
        "id": "RRRbDtBMbmPq"
      },
      "id": "RRRbDtBMbmPq"
    },
    {
      "cell_type": "code",
      "execution_count": null,
      "id": "b041a34a",
      "metadata": {
        "execution": {
          "iopub.execute_input": "2023-08-21T06:44:12.187949Z",
          "iopub.status.busy": "2023-08-21T06:44:12.187569Z",
          "iopub.status.idle": "2023-08-21T06:46:23.587901Z",
          "shell.execute_reply": "2023-08-21T06:46:23.586726Z"
        },
        "papermill": {
          "duration": 131.413674,
          "end_time": "2023-08-21T06:46:23.590376",
          "exception": false,
          "start_time": "2023-08-21T06:44:12.176702",
          "status": "completed"
        },
        "tags": [],
        "colab": {
          "base_uri": "https://localhost:8080/"
        },
        "id": "b041a34a",
        "outputId": "2f032575-d1c8-4045-9f34-6d1e667ed9be"
      },
      "outputs": [
        {
          "output_type": "stream",
          "name": "stdout",
          "text": [
            "Number of features: 43\n",
            "\n",
            "Metrics for K Neighbors on train data:\n",
            "Accuracy: 0.98\n",
            "Precision: 0.98\n",
            "Recall: 0.98\n",
            "\n",
            "\n",
            "Metrics for K Neighbors on validation data:\n",
            "Accuracy: 0.97\n",
            "Precision: 0.97\n",
            "Recall: 0.97\n",
            "\n",
            "\n"
          ]
        }
      ],
      "source": [
        "# Number of features used in PCA\n",
        "print(f\"Number of features: {train_features.shape[1]}\\n\")\n",
        "\n",
        "# Train and evaluate each classification model\n",
        "for model_name, model in classification_models:\n",
        "    # Train the model on the training data\n",
        "    model.fit(train_features, train_label4)\n",
        "\n",
        "    # Predict on the train data\n",
        "    y_pred_train = model.predict(train_features)\n",
        "\n",
        "    # Calculate metrics for classification evaluation\n",
        "    accuracy = accuracy_score(train_label4, y_pred_train)\n",
        "    precision = precision_score(train_label4, y_pred_train, average='weighted' , zero_division=1)\n",
        "    recall = recall_score(train_label4, y_pred_train, average='weighted')\n",
        "\n",
        "    print(f\"Metrics for {model_name} on train data:\")\n",
        "    print(f\"Accuracy: {accuracy:.2f}\")\n",
        "    print(f\"Precision: {precision:.2f}\")\n",
        "    print(f\"Recall: {recall:.2f}\")\n",
        "    print(\"\\n\")\n",
        "\n",
        "    # Predict on the validation data\n",
        "    y_pred_valid = model.predict(valid_features)\n",
        "\n",
        "    # Calculate metrics for classification evaluation on validation data\n",
        "    accuracy = accuracy_score(valid_label4, y_pred_valid)\n",
        "    precision = precision_score(valid_label4, y_pred_valid, average='weighted', zero_division=1)\n",
        "    recall = recall_score(valid_label4, y_pred_valid, average='weighted')\n",
        "\n",
        "    print(f\"Metrics for {model_name} on validation data:\")\n",
        "    print(f\"Accuracy: {accuracy:.2f}\")\n",
        "    print(f\"Precision: {precision:.2f}\")\n",
        "    print(f\"Recall: {recall:.2f}\")\n",
        "    print(\"\\n\")\n",
        "\n",
        "    # Predict on the test data\n",
        "    y_pred_test = model.predict(test_features)"
      ]
    },
    {
      "cell_type": "markdown",
      "source": [
        "# Generate Output CSV"
      ],
      "metadata": {
        "id": "mYzBrcV0bt1X"
      },
      "id": "mYzBrcV0bt1X"
    },
    {
      "cell_type": "markdown",
      "source": [
        "Define method to create the csv file and create the CSV"
      ],
      "metadata": {
        "id": "gunVb8IcQzpY"
      },
      "id": "gunVb8IcQzpY"
    },
    {
      "cell_type": "code",
      "source": [
        "def create_csv(features, pred_before_fe, pred_after_fe, destination):\n",
        "  feature_count = features.shape[1]\n",
        "\n",
        "  header_row = [f\"new_feature_{i}\" for i in range(1,feature_count+1)]\n",
        "\n",
        "  df = pd.DataFrame(features, columns  = header_row)\n",
        "\n",
        "  df.insert(loc=0, column='Predicted labels before feature engineering', value=pred_before_fe)\n",
        "  df.insert(loc=1, column='Predicted labels after feature engineering', value=pred_after_fe)\n",
        "  df.insert(loc=2, column='No of new features', value=np.repeat(feature_count, features.shape[0]))\n",
        "\n",
        "  df.to_csv(destination, index=False)\n",
        "\n",
        "destination = '/content/drive/MyDrive/AI-Resources/ML/LAB01/190507U_label_4.csv'\n",
        "\n",
        "# create the csv output file\n",
        "create_csv(test_features.values, y_pred_base_test, y_pred_test, destination)"
      ],
      "metadata": {
        "id": "fJpvlOrAQyEY"
      },
      "id": "fJpvlOrAQyEY",
      "execution_count": null,
      "outputs": []
    }
  ],
  "metadata": {
    "kernelspec": {
      "display_name": "Python 3",
      "language": "python",
      "name": "python3"
    },
    "language_info": {
      "codemirror_mode": {
        "name": "ipython",
        "version": 3
      },
      "file_extension": ".py",
      "mimetype": "text/x-python",
      "name": "python",
      "nbconvert_exporter": "python",
      "pygments_lexer": "ipython3",
      "version": "3.10.12"
    },
    "papermill": {
      "default_parameters": {},
      "duration": 167.67573,
      "end_time": "2023-08-21T06:46:25.245970",
      "environment_variables": {},
      "exception": null,
      "input_path": "__notebook__.ipynb",
      "output_path": "__notebook__.ipynb",
      "parameters": {},
      "start_time": "2023-08-21T06:43:37.570240",
      "version": "2.4.0"
    },
    "colab": {
      "provenance": []
    }
  },
  "nbformat": 4,
  "nbformat_minor": 5
}